{
 "cells": [
  {
   "cell_type": "code",
   "execution_count": 1,
   "metadata": {},
   "outputs": [],
   "source": [
    "import os\n",
    "os.chdir('../')"
   ]
  },
  {
   "cell_type": "code",
   "execution_count": 2,
   "metadata": {},
   "outputs": [],
   "source": [
    "from dataclasses import dataclass\n",
    "from pathlib import Path\n",
    "\n",
    "@dataclass(frozen=True)\n",
    "class DataTransformationConfig:\n",
    "    root_dir: Path\n",
    "    input_data_file: Path\n",
    "    tokenizer_name:Path\n"
   ]
  },
  {
   "cell_type": "code",
   "execution_count": 3,
   "metadata": {},
   "outputs": [
    {
     "name": "stderr",
     "output_type": "stream",
     "text": [
      "c:\\Users\\AA\\anaconda3\\envs\\BeautyPro\\lib\\site-packages\\tqdm\\auto.py:21: TqdmWarning: IProgress not found. Please update jupyter and ipywidgets. See https://ipywidgets.readthedocs.io/en/stable/user_install.html\n",
      "  from .autonotebook import tqdm as notebook_tqdm\n"
     ]
    }
   ],
   "source": [
    "import pandas as pd\n",
    "import numpy as np\n",
    "import transformers\n",
    "import datasets\n",
    "from datasets import load_dataset,load_from_disk\n",
    "from bpReviewClassifier.constants import *\n",
    "from bpReviewClassifier.utils.common import read_yaml,create_directories"
   ]
  },
  {
   "cell_type": "code",
   "execution_count": 4,
   "metadata": {},
   "outputs": [],
   "source": [
    "class ConfigurationManager:\n",
    "    def __init__(self,config_filepath=CONFIG_FILE_PATH,params_filepath=PARAMS_FILE_PATH):\n",
    "        self.config=read_yaml(config_filepath)\n",
    "        self.params=read_yaml(params_filepath)\n",
    "        create_directories([self.config.artifacts_root])\n",
    "    \n",
    "    def get_data_transformation(self)->DataTransformationConfig:\n",
    "        config=self.config.data_transformation\n",
    "        create_directories([config.root_dir])\n",
    "        data_transformation_config=DataTransformationConfig(\n",
    "            root_dir=config.root_dir,\n",
    "            input_data_file=config.input_data_file,\n",
    "            tokenizer_name=config.tokenizer_filename\n",
    "        )\n",
    "        return data_transformation_config"
   ]
  },
  {
   "cell_type": "code",
   "execution_count": 5,
   "metadata": {},
   "outputs": [],
   "source": [
    "import os\n",
    "from bpReviewClassifier.logging import logger\n",
    "from transformers import AutoTokenizer\n",
    "from datasets import load_dataset,load_from_disk,Dataset,DatasetDict\n",
    "from sklearn.model_selection import train_test_split\n",
    "from sklearn.preprocessing import OneHotEncoder\n",
    "import torch"
   ]
  },
  {
   "cell_type": "code",
   "execution_count": 6,
   "metadata": {},
   "outputs": [],
   "source": [
    "class DataTransformation:\n",
    "    def __init__(self,config:DataTransformationConfig):\n",
    "        self.config=config\n",
    "        self.tokenizer=AutoTokenizer.from_pretrained(config.tokenizer_name)\n",
    "    def preparing_dataset(self):\n",
    "        ohe=OneHotEncoder()\n",
    "        #loading dataset and converting into pandas dataframe\n",
    "        df=pd.read_json(self.config.input_data_file,lines=True)\n",
    "        #dropping unnecessary columns\n",
    "        df.drop(['title','images','asin','parent_asin','user_id','timestamp', 'helpful_vote', 'verified_purchase'],axis=1,inplace=True)\n",
    "        #one hot encoding our output column that is rating\n",
    "        rating_encoded=ohe.fit_transform(df[['rating']]).toarray()\n",
    "        df['rating']=[list(label) for label in rating_encoded]\n",
    "        #splitting dataset into train,test,validation\n",
    "        train_df,temp_df=train_test_split(df,test_size=0.3,random_state=42)\n",
    "        test_df,val_df=train_test_split(temp_df,test_size=0.5,random_state=42)\n",
    "        train_df.reset_index(drop=True, inplace=True)\n",
    "        val_df.reset_index(drop=True, inplace=True)\n",
    "        test_df.reset_index(drop=True, inplace=True)\n",
    "\n",
    "        train_dataset = Dataset.from_pandas(train_df)\n",
    "        val_dataset = Dataset.from_pandas(val_df)\n",
    "        test_dataset = Dataset.from_pandas(test_df)\n",
    "        #preparring datasetDict\n",
    "        dataset_dict = DatasetDict({\n",
    "            'train': train_dataset,\n",
    "            'validation': val_dataset,\n",
    "            'test': test_dataset\n",
    "            })\n",
    "        return dataset_dict\n",
    "<<<<<<< Tabnine <<<<<<<\n",
    "    def tokenize_fun(self,example_batch):#-\n",
    "        encodings=self.tokenizer(example_batch['text'], truncation=True, padding='max_length',max_length=512)#-\n",
    "        return encodings\n",
    "    def tokenize_fun(self, example_batch):#+\n",
    "        \"\"\"#+\n",
    "        This function tokenizes a batch of text data using the Hugging Face Transformers tokenizer.#+\n",
    "#+\n",
    "        Parameters:#+\n",
    "        example_batch (dict): A dictionary containing a batch of text data. The dictionary should have a key 'text' which maps to a list of strings.#+\n",
    "#+\n",
    "        Returns:#+\n",
    "        dict: A dictionary containing the tokenized inputs and attention masks. The dictionary has the following keys: 'input_ids', 'attention_mask'.#+\n",
    "        \"\"\"#+\n",
    "        encodings = self.tokenizer(example_batch['text'], truncation=True, padding='max_length', max_length=512)#+\n",
    "        return encodings\n",
    ">>>>>>> Tabnine >>>>>>># {\"conversationId\":\"34db8db5-f457-4a52-8f40-2c212100c6b1\",\"source\":\"instruct\"}\n",
    "    def convert(self):\n",
    "        prepared_dataset=self.preparing_dataset()\n",
    "        transformed=prepared_dataset.map(self.tokenize_fun,batched=True)\n",
    "        transformed=transformed.remove_columns(['text'])\n",
    "        transformed=transformed.rename_column('rating','label')\n",
    "        \n",
    "        transformed.save_to_disk(os.path.join(self.config.root_dir,\"transformed_dataset\"))\n",
    "    \n",
    "    \n",
    "\n",
    "        "
   ]
  },
  {
   "cell_type": "code",
   "execution_count": 7,
   "metadata": {},
   "outputs": [
    {
     "name": "stdout",
     "output_type": "stream",
     "text": [
      "[2025-01-20 23:56:22,472 : INFO : common : yaml file config\\config.yaml loaded successfully]\n",
      "[2025-01-20 23:56:22,484 : INFO : common : yaml file params.yaml loaded successfully]\n",
      "[2025-01-20 23:56:22,486 : INFO : common : artifacts Created successfully.]\n",
      "[2025-01-20 23:56:22,488 : INFO : common : artifacts/data_transformation Created successfully.]\n"
     ]
    },
    {
     "name": "stderr",
     "output_type": "stream",
     "text": [
      "Map: 100%|██████████| 491069/491069 [02:50<00:00, 2888.33 examples/s]\n",
      "Map: 100%|██████████| 105230/105230 [00:37<00:00, 2827.93 examples/s]\n",
      "Map: 100%|██████████| 105229/105229 [00:37<00:00, 2779.73 examples/s]\n",
      "Saving the dataset (3/3 shards): 100%|██████████| 491069/491069 [00:06<00:00, 75584.94 examples/s] \n",
      "Saving the dataset (1/1 shards): 100%|██████████| 105230/105230 [00:02<00:00, 43200.26 examples/s]\n",
      "Saving the dataset (1/1 shards): 100%|██████████| 105229/105229 [00:03<00:00, 31821.93 examples/s]\n"
     ]
    }
   ],
   "source": [
    "try:\n",
    "    config=ConfigurationManager()\n",
    "    data_transformation_config=config.get_data_transformation()\n",
    "    data_transformation=DataTransformation(config=data_transformation_config)\n",
    "    #prepared_dataset=data_transformation.preparing_dataset()\n",
    "    #transformed=prepared_dataset.map(data_transformation.tokenize_fun,batched=True)\n",
    "    transformed=data_transformation.convert()\n",
    "    \n",
    "    \n",
    "    \n",
    "    \n",
    "except Exception as e:\n",
    "    raise e\n"
   ]
  },
  {
   "cell_type": "code",
   "execution_count": null,
   "metadata": {},
   "outputs": [],
   "source": []
  }
 ],
 "metadata": {
  "kernelspec": {
   "display_name": "BeautyPro",
   "language": "python",
   "name": "python3"
  },
  "language_info": {
   "codemirror_mode": {
    "name": "ipython",
    "version": 3
   },
   "file_extension": ".py",
   "mimetype": "text/x-python",
   "name": "python",
   "nbconvert_exporter": "python",
   "pygments_lexer": "ipython3",
   "version": "3.10.16"
  }
 },
 "nbformat": 4,
 "nbformat_minor": 2
}
