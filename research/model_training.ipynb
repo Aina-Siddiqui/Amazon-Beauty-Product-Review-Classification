{
 "cells": [
  {
   "cell_type": "code",
   "execution_count": 1,
   "metadata": {},
   "outputs": [],
   "source": [
    "import os"
   ]
  },
  {
   "cell_type": "code",
   "execution_count": 2,
   "metadata": {},
   "outputs": [],
   "source": [
    "os.chdir('../')"
   ]
  },
  {
   "cell_type": "code",
   "execution_count": 3,
   "metadata": {},
   "outputs": [],
   "source": [
    "from dataclasses import dataclass\n",
    "from pathlib import  Path\n",
    "@dataclass(frozen=True)\n",
    "\n",
    "class ModelConfig:\n",
    "    root_dir: Path\n",
    "    data_path: Path\n",
    "    model_ckpt: Path\n",
    "    num_train_epochs: int\n",
    "    warmup_steps:int\n",
    "    per_device_train_batch_size: int\n",
    "    weight_decay: float\n",
    "    logging_steps: int\n",
    "    evaluation_strategy: str\n",
    "    eval_steps: int\n",
    "    save_steps: int\n",
    "    gradient_accumulation_steps: int"
   ]
  },
  {
   "cell_type": "code",
   "execution_count": 4,
   "metadata": {},
   "outputs": [],
   "source": [
    "from bpReviewClassifier.constants import *\n",
    "from bpReviewClassifier.utils.common import read_yaml,create_directories"
   ]
  },
  {
   "cell_type": "code",
   "execution_count": 5,
   "metadata": {},
   "outputs": [],
   "source": [
    "class ConfigurationManager:\n",
    "    def __init__(self,config_filepath=CONFIG_FILE_PATH,params_filepath=PARAMS_FILE_PATH):\n",
    "        self.config=read_yaml(config_filepath)\n",
    "        self.params=read_yaml(params_filepath)\n",
    "        create_directories([self.config.artifacts_root])\n",
    "    def get_model_config(self)->ModelConfig:\n",
    "        config=self.config.model_trainer\n",
    "        params=self.params.TrainingArguments\n",
    "        create_directories([config.root_dir])\n",
    "        model_trainer_config=ModelConfig(\n",
    "        root_dir=config.root_dir,\n",
    "        data_path=config.data_path,\n",
    "        model_ckpt=config.model_ckpt,\n",
    "        num_train_epochs=params.num_train_epochs,\n",
    "        warmup_steps=params.warmup_steps,\n",
    "        per_device_train_batch_size=params.per_device_train_batch_size,\n",
    "        weight_decay=params.weight_decay,\n",
    "        logging_steps=params.logging_steps,\n",
    "        evaluation_strategy=params.evaluation_strategy,\n",
    "        eval_steps=params.eval_steps,\n",
    "        save_steps=params.save_steps,\n",
    "        gradient_accumulation_steps=params.gradient_accumulation_steps\n",
    "        )\n",
    "        return model_trainer_config\n",
    "\n"
   ]
  },
  {
   "cell_type": "code",
   "execution_count": 6,
   "metadata": {},
   "outputs": [
    {
     "name": "stderr",
     "output_type": "stream",
     "text": [
      "c:\\Users\\AA\\anaconda3\\envs\\BeautyPro\\lib\\site-packages\\tqdm\\auto.py:21: TqdmWarning: IProgress not found. Please update jupyter and ipywidgets. See https://ipywidgets.readthedocs.io/en/stable/user_install.html\n",
      "  from .autonotebook import tqdm as notebook_tqdm\n"
     ]
    },
    {
     "name": "stdout",
     "output_type": "stream",
     "text": [
      "[2025-01-21 00:05:31,319 : INFO : config : PyTorch version 2.5.1 available.]\n"
     ]
    }
   ],
   "source": [
    "from transformers import  Trainer,TrainingArguments\n",
    "from transformers import AutoModelForSequenceClassification,AutoTokenizer,DataCollatorWithPadding\n",
    "from datasets import load_dataset,load_from_disk\n",
    "import torch\n"
   ]
  },
  {
   "cell_type": "code",
   "execution_count": 7,
   "metadata": {},
   "outputs": [],
   "source": [
    "class ModelTrainer:\n",
    "    def __init__(self,config:ModelConfig):\n",
    "        self.config=config\n",
    "    def train(self):\n",
    "        device='cuda' if torch.cuda.is_available() else 'cpu'\n",
    "        Tokenizer = AutoTokenizer.from_pretrained(self.config.model_ckpt)\n",
    "        #data_collator=DataCollatorWithPadding(tokenizer)\n",
    "        model_review_classifer=AutoModelForSequenceClassification.from_pretrained(self.config.model_ckpt,num_labels=1)\n",
    "       \n",
    "        transformed_ds=load_from_disk(self.config.data_path)\n",
    "       \n",
    "        trainer_args=TrainingArguments(\n",
    "            output_dir=self.config.root_dir,\n",
    "            num_train_epochs=2,\n",
    "            per_device_train_batch_size=1,\n",
    "            per_device_eval_batch_size=1, \n",
    "            warmup_steps=500,\n",
    "            weight_decay=0.01,\n",
    "            logging_steps=10,\n",
    "            eval_strategy='steps',\n",
    "            eval_steps=500,\n",
    "            save_steps=1e6,\n",
    "            gradient_accumulation_steps=16\n",
    "        )\n",
    "        trainer=Trainer(\n",
    "            model=model_review_classifer,\n",
    "            args=trainer_args,\n",
    "            #data_collator=data_collator,\n",
    "            tokenizer=Tokenizer,\n",
    "            train_dataset=transformed_ds[\"test\"],\n",
    "            eval_dataset=transformed_ds[\"validation\"]\n",
    "        )\n",
    "        trainer.train()\n",
    "        model_review_classifer.save_pretrained(os.path.join(self.config.root_dir,\"review-Classifier-model\"))\n",
    "        tokenizer.save_pretrained(os.path.join(self.config.root_dir,\"tokenizer\"))\n",
    "                              \n",
    "        "
   ]
  },
  {
   "cell_type": "code",
   "execution_count": null,
   "metadata": {},
   "outputs": [
    {
     "name": "stdout",
     "output_type": "stream",
     "text": [
      "[2025-01-21 00:05:32,423 : INFO : common : yaml file config\\config.yaml loaded successfully]\n"
     ]
    },
    {
     "name": "stdout",
     "output_type": "stream",
     "text": [
      "[2025-01-21 00:05:32,440 : INFO : common : yaml file params.yaml loaded successfully]\n",
      "[2025-01-21 00:05:32,444 : INFO : common : artifacts Created successfully.]\n",
      "[2025-01-21 00:05:32,447 : INFO : common : artifacts/model_training Created successfully.]\n"
     ]
    },
    {
     "name": "stderr",
     "output_type": "stream",
     "text": [
      "Some weights of DistilBertForSequenceClassification were not initialized from the model checkpoint at distilbert/distilbert-base-uncased and are newly initialized: ['classifier.bias', 'classifier.weight', 'pre_classifier.bias', 'pre_classifier.weight']\n",
      "You should probably TRAIN this model on a down-stream task to be able to use it for predictions and inference.\n",
      "C:\\Users\\AA\\AppData\\Local\\Temp\\ipykernel_10904\\3765089197.py:25: FutureWarning: `tokenizer` is deprecated and will be removed in version 5.0.0 for `Trainer.__init__`. Use `processing_class` instead.\n",
      "  trainer=Trainer(\n",
      "c:\\Users\\AA\\anaconda3\\envs\\BeautyPro\\lib\\site-packages\\torch\\nn\\modules\\loss.py:608: UserWarning: Using a target size (torch.Size([5])) that is different to the input size (torch.Size([])). This will likely lead to incorrect results due to broadcasting. Please ensure they have the same size.\n",
      "  return F.mse_loss(input, target, reduction=self.reduction)\n"
     ]
    },
    {
     "data": {
      "text/html": [
       "\n",
       "    <div>\n",
       "      \n",
       "      <progress value='187' max='13152' style='width:300px; height:20px; vertical-align: middle;'></progress>\n",
       "      [  187/13152 2:19:46 < 163:15:44, 0.02 it/s, Epoch 0.03/2]\n",
       "    </div>\n",
       "    <table border=\"1\" class=\"dataframe\">\n",
       "  <thead>\n",
       " <tr style=\"text-align: left;\">\n",
       "      <th>Step</th>\n",
       "      <th>Training Loss</th>\n",
       "      <th>Validation Loss</th>\n",
       "    </tr>\n",
       "  </thead>\n",
       "  <tbody>\n",
       "  </tbody>\n",
       "</table><p>"
      ],
      "text/plain": [
       "<IPython.core.display.HTML object>"
      ]
     },
     "metadata": {},
     "output_type": "display_data"
    }
   ],
   "source": [
    "try:\n",
    "    config=ConfigurationManager()\n",
    "    model_trainer_config=config.get_model_config()\n",
    "    model_trainer_config=ModelTrainer(model_trainer_config)\n",
    "    model_trainer_config.train()\n",
    "except Exception as e:\n",
    "    raise e"
   ]
  },
  {
   "cell_type": "code",
   "execution_count": null,
   "metadata": {},
   "outputs": [],
   "source": []
  }
 ],
 "metadata": {
  "kernelspec": {
   "display_name": "BeautyPro",
   "language": "python",
   "name": "python3"
  },
  "language_info": {
   "codemirror_mode": {
    "name": "ipython",
    "version": 3
   },
   "file_extension": ".py",
   "mimetype": "text/x-python",
   "name": "python",
   "nbconvert_exporter": "python",
   "pygments_lexer": "ipython3",
   "version": "3.10.16"
  }
 },
 "nbformat": 4,
 "nbformat_minor": 2
}
