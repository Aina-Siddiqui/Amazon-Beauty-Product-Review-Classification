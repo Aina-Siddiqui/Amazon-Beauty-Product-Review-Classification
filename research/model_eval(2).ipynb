{
 "cells": [
  {
   "cell_type": "code",
   "execution_count": 1,
   "metadata": {},
   "outputs": [],
   "source": [
    "import os\n",
    "os.chdir('../')"
   ]
  },
  {
   "cell_type": "code",
   "execution_count": 2,
   "metadata": {},
   "outputs": [],
   "source": [
    "from dataclasses import dataclass\n",
    "from pathlib import  Path\n",
    "\n",
    "@dataclass(frozen=True)\n",
    "class ModelEvaluationConfig:\n",
    "    root_dir: Path\n",
    "    model_path: Path\n",
    "    data_path: Path\n",
    "    tokenizer_path: Path\n",
    "    metric_filename:Path"
   ]
  },
  {
   "cell_type": "code",
   "execution_count": 3,
   "metadata": {},
   "outputs": [],
   "source": [
    "from bpReviewClassifier.constants import *\n",
    "from bpReviewClassifier.utils.common import read_yaml,create_directories"
   ]
  },
  {
   "cell_type": "code",
   "execution_count": 4,
   "metadata": {},
   "outputs": [],
   "source": [
    "class ConfigurationManager:\n",
    "    def __init__(self,config_filepath=CONFIG_FILE_PATH,params_filepath=PARAMS_FILE_PATH):\n",
    "        self.config=read_yaml(config_filepath)\n",
    "        self.params=read_yaml(params_filepath)\n",
    "        create_directories([self.config.artifacts_root])\n",
    "    def get_model_eval_config(self)->ModelEvaluationConfig:\n",
    "        config=self.config.model_evaluation\n",
    "        create_directories([config.root_dir])\n",
    "        model_eval_config=ModelEvaluationConfig(\n",
    "            root_dir=config.root_dir,\n",
    "            model_path=config.model_path,\n",
    "            data_path=Path(config.data_path),\n",
    "            tokenizer_path=config.tokenizer_path,\n",
    "            metric_filename=config.metric_filename,\n",
    "        )\n",
    "        return model_eval_config"
   ]
  },
  {
   "cell_type": "code",
   "execution_count": 5,
   "metadata": {},
   "outputs": [
    {
     "name": "stderr",
     "output_type": "stream",
     "text": [
      "c:\\Users\\AA\\anaconda3\\envs\\BeautyPro\\lib\\site-packages\\tqdm\\auto.py:21: TqdmWarning: IProgress not found. Please update jupyter and ipywidgets. See https://ipywidgets.readthedocs.io/en/stable/user_install.html\n",
      "  from .autonotebook import tqdm as notebook_tqdm\n"
     ]
    },
    {
     "name": "stdout",
     "output_type": "stream",
     "text": [
      "[2025-01-28 16:20:41,155 : INFO : config : PyTorch version 2.5.1 available.]\n"
     ]
    }
   ],
   "source": [
    "from transformers import  AutoModelForSequenceClassification,AutoTokenizer\n",
    "from datasets import load_dataset,load_from_disk\n",
    "from evaluate import load\n",
    "import torch\n",
    "import pandas as pd\n",
    "from tqdm import tqdm\n",
    "from datasets import Dataset,DatasetDict\n",
    "from sklearn.model_selection import train_test_split\n",
    "import numpy as np\n",
    "from transformers import AutoModelForSequenceClassification\n",
    "import torch\n",
    "from torch.utils.data import DataLoader"
   ]
  },
  {
   "cell_type": "code",
   "execution_count": 6,
   "metadata": {},
   "outputs": [],
   "source": [
    "class ModelEvaluation:\n",
    "    def __init__(self,config:ModelEvaluationConfig):\n",
    "        self.config=config\n",
    "    def tokenize_fun(self,batch):\n",
    "            device='cuda' if torch.cuda.is_available() else 'cpu'\n",
    "            tokenizer=AutoTokenizer.from_pretrained(self.config.tokenizer_path)\n",
    "    \n",
    "            tokenized_inputs = tokenizer(batch['text'], truncation=True, padding='max_length',return_tensors='pt')\n",
    "            return tokenized_inputs\n",
    "    def collate_fn(self,batch):\n",
    "                return {\n",
    "                'input_ids': torch.tensor([item['input_ids'] for item in batch], dtype=torch.long),\n",
    "                'attention_mask': torch.tensor([item['attention_mask'] for item in batch], dtype=torch.long),\n",
    "            }\n",
    "    def eval_acc(self,outputs,labels):\n",
    "           \n",
    "            dataloader = DataLoader(outputs, batch_size=32, collate_fn=self.collate_fn)\n",
    "            model = AutoModelForSequenceClassification.from_pretrained(self.config.model_path)\n",
    "            all_preds = []\n",
    "            total_batches = len(dataloader)  # Total number of batches\n",
    "\n",
    "            for batch in tqdm(dataloader, total=total_batches, desc=\"Evaluating\", unit=\"batch\"):\n",
    "                # Extract tensors from the batch\n",
    "                input_ids = batch['input_ids']\n",
    "            \n",
    "                attention_mask = batch['attention_mask']\n",
    "\n",
    "                with torch.no_grad():\n",
    "                    preds = model(input_ids=input_ids, attention_mask=attention_mask).logits.argmax(dim=-1)\n",
    "                \n",
    "                all_preds.extend(preds.tolist())\n",
    "               # Compute accuracy\n",
    "            eval_acc = load('accuracy')\n",
    "            score = eval_acc.compute(predictions=all_preds, references=labels)\n",
    "            return score\n",
    "    def loading_dataset(self):\n",
    "        df=pd.read_json(self.config.data_path,lines=True)\n",
    "        df.drop(['title','images','asin','parent_asin','user_id','timestamp', 'helpful_vote', 'verified_purchase'],axis=1,inplace=True)\n",
    "        #one hot encoding our output column that is rating\n",
    "        #df['rating']=df['rating']-1\n",
    "        #splitting dataset into train,test,validation\n",
    "        train_df,temp_df=train_test_split(df,test_size=0.3,random_state=42)\n",
    "        test_df,val_df=train_test_split(temp_df,test_size=0.5,random_state=42)\n",
    "        train_df.reset_index(drop=True, inplace=True)\n",
    "        val_df.reset_index(drop=True, inplace=True)\n",
    "        test_df.reset_index(drop=True, inplace=True)\n",
    "\n",
    "        train_dataset = Dataset.from_pandas(train_df)\n",
    "        val_dataset = Dataset.from_pandas(val_df)\n",
    "        test_dataset = Dataset.from_pandas(test_df)\n",
    "        #preparring datasetDict\n",
    "        dataset_dict = DatasetDict({\n",
    "            'train': train_dataset,\n",
    "            'validation': val_dataset,\n",
    "            'test': test_dataset\n",
    "            })\n",
    "        \n",
    "        dataset_dict=dataset_dict.rename_column('rating','label')\n",
    "        labels=dataset_dict['test']['label']\n",
    "        output=dataset_dict['test'].map(self.tokenize_fun,batched=True)\n",
    "        \n",
    "\n",
    "         \n",
    "        result=self.eval_acc(output,labels)\n",
    "        accuracy_dict=dict(accuracy=result)\n",
    "        df=pd.DataFrame(accuracy_dict)\n",
    "        df.to_csv(self.config.metric_filename,index=False)        \n",
    "        \n",
    "           "
   ]
  },
  {
   "cell_type": "code",
   "execution_count": 7,
   "metadata": {},
   "outputs": [
    {
     "name": "stdout",
     "output_type": "stream",
     "text": [
      "[2025-01-28 16:20:43,238 : INFO : common : yaml file config\\config.yaml loaded successfully]\n",
      "[2025-01-28 16:20:43,246 : INFO : common : yaml file params.yaml loaded successfully]\n",
      "[2025-01-28 16:20:43,246 : INFO : common : artifacts Created successfully.]\n",
      "[2025-01-28 16:20:43,256 : INFO : common : artifacts/model_evaluation Created successfully.]\n"
     ]
    },
    {
     "name": "stderr",
     "output_type": "stream",
     "text": [
      "Map: 100%|██████████| 105229/105229 [01:06<00:00, 1582.68 examples/s]\n",
      "Evaluating: 100%|██████████| 3289/3289 [28:22:53<00:00, 31.07s/batch]       \n"
     ]
    }
   ],
   "source": [
    "try:\n",
    "    config=ConfigurationManager()\n",
    "    mode_eval_config=config.get_model_eval_config()\n",
    "    model_evaluation=ModelEvaluation(config=mode_eval_config)\n",
    "    model_evaluation.loading_dataset()\n",
    "except Exception as e:\n",
    "    raise e"
   ]
  },
  {
   "cell_type": "code",
   "execution_count": null,
   "metadata": {},
   "outputs": [],
   "source": []
  }
 ],
 "metadata": {
  "kernelspec": {
   "display_name": "BeautyPro",
   "language": "python",
   "name": "python3"
  },
  "language_info": {
   "codemirror_mode": {
    "name": "ipython",
    "version": 3
   },
   "file_extension": ".py",
   "mimetype": "text/x-python",
   "name": "python",
   "nbconvert_exporter": "python",
   "pygments_lexer": "ipython3",
   "version": "3.10.16"
  }
 },
 "nbformat": 4,
 "nbformat_minor": 2
}
